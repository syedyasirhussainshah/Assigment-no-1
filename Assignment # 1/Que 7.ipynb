{
 "cells": [
  {
   "cell_type": "code",
   "execution_count": 4,
   "id": "bc2ce612",
   "metadata": {},
   "outputs": [
    {
     "name": "stdout",
     "output_type": "stream",
     "text": [
      "Enter Marks Obtained in 5 Subjects: \n",
      "55\n",
      "66\n",
      "44\n",
      "88\n",
      "56\n",
      "Marks Of Obtain : 309 Marks Of Total : 500 Percentage : 61.8 Grade :B\n"
     ]
    }
   ],
   "source": [
    "# Write a program which takes 5 inputs from user for different subject’s marks, total it and generate mark sheet using grades?\n",
    "\n",
    "mark = []\n",
    "obtain = 0\n",
    "total = 500\n",
    "print(\"Enter Marks Obtained in 5 Subjects: \")\n",
    "for i in range(5):\n",
    "    mark.insert(i, input())\n",
    "\n",
    "for i in range(5):\n",
    "    obtain = obtain + int(mark[i])\n",
    "percent = obtain/total*100\n",
    "\n",
    "\n",
    "if percent > 100:\n",
    "    grade = \"Error! Please Enter The Correct Percentage\";\n",
    "\n",
    "elif percent <= 100 and percent >= 80:\n",
    "    grade = \"A+\"\n",
    "    \n",
    "elif percent <= 80 and percent >= 70:\n",
    "    grade = \"A\"\n",
    "    \n",
    "elif percent <= 70 and percent >= 60:\n",
    "    grade = \"B\"\n",
    "    \n",
    "elif percent <= 60 and percent >= 50:\n",
    "    grade = \"C\";\n",
    "    \n",
    "elif percent <= 50 and percent >= 40:\n",
    "    grade = \"D\"\n",
    "    \n",
    "elif percent <= 40 and percent >= 33:\n",
    "    grade = \" E\"\n",
    "    \n",
    "else:\n",
    "    grade = \"Fail\";\n",
    "    \n",
    "print(\"Marks Of Obtain : \" +str(obtain), \"Marks Of Total : \" +str(total),\"Percentage : \"+ str(percent), \"Grade :\"+str(grade) );\n",
    "    "
   ]
  },
  {
   "cell_type": "code",
   "execution_count": null,
   "id": "d3041d16",
   "metadata": {},
   "outputs": [],
   "source": []
  }
 ],
 "metadata": {
  "kernelspec": {
   "display_name": "Python 3",
   "language": "python",
   "name": "python3"
  },
  "language_info": {
   "codemirror_mode": {
    "name": "ipython",
    "version": 3
   },
   "file_extension": ".py",
   "mimetype": "text/x-python",
   "name": "python",
   "nbconvert_exporter": "python",
   "pygments_lexer": "ipython3",
   "version": "3.8.8"
  }
 },
 "nbformat": 4,
 "nbformat_minor": 5
}
